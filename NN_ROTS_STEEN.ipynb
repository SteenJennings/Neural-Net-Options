{
  "nbformat": 4,
  "nbformat_minor": 0,
  "metadata": {
    "colab": {
      "name": "NN_ROTS_STEEN.ipynb",
      "provenance": [],
      "collapsed_sections": [],
      "include_colab_link": true
    },
    "kernelspec": {
      "name": "python3",
      "display_name": "Python 3"
    },
    "language_info": {
      "name": "python"
    }
  },
  "cells": [
    {
      "cell_type": "markdown",
      "metadata": {
        "id": "view-in-github",
        "colab_type": "text"
      },
      "source": [
        "<a href=\"https://colab.research.google.com/github/SteenJennings/Neural-Net-Options/blob/master/NN_ROTS_STEEN.ipynb\" target=\"_parent\"><img src=\"https://colab.research.google.com/assets/colab-badge.svg\" alt=\"Open In Colab\"/></a>"
      ]
    },
    {
      "cell_type": "markdown",
      "metadata": {
        "id": "LMshKspgG6r7"
      },
      "source": [
        "# Installs"
      ]
    },
    {
      "cell_type": "code",
      "metadata": {
        "id": "5phSKGufDoAc",
        "colab": {
          "base_uri": "https://localhost:8080/"
        },
        "outputId": "63cad6d2-b190-44bb-b584-6f8e93d11355"
      },
      "source": [
        "pip install alpha_vantage"
      ],
      "execution_count": 3,
      "outputs": [
        {
          "output_type": "stream",
          "text": [
            "Collecting alpha_vantage\n",
            "  Downloading https://files.pythonhosted.org/packages/ba/b4/d95f9e0eccea6732bab5a079772d453a4f0b68a9f63740d9cf320f92beaa/alpha_vantage-2.3.1-py3-none-any.whl\n",
            "Requirement already satisfied: requests in /usr/local/lib/python3.7/dist-packages (from alpha_vantage) (2.23.0)\n",
            "Collecting aiohttp\n",
            "\u001b[?25l  Downloading https://files.pythonhosted.org/packages/88/c0/5890b4c8b04a79b7360e8fe4490feb0bb3ab179743f199f0e6220cebd568/aiohttp-3.7.4.post0-cp37-cp37m-manylinux2014_x86_64.whl (1.3MB)\n",
            "\u001b[K     |████████████████████████████████| 1.3MB 15.9MB/s \n",
            "\u001b[?25hRequirement already satisfied: certifi>=2017.4.17 in /usr/local/lib/python3.7/dist-packages (from requests->alpha_vantage) (2020.12.5)\n",
            "Requirement already satisfied: idna<3,>=2.5 in /usr/local/lib/python3.7/dist-packages (from requests->alpha_vantage) (2.10)\n",
            "Requirement already satisfied: chardet<4,>=3.0.2 in /usr/local/lib/python3.7/dist-packages (from requests->alpha_vantage) (3.0.4)\n",
            "Requirement already satisfied: urllib3!=1.25.0,!=1.25.1,<1.26,>=1.21.1 in /usr/local/lib/python3.7/dist-packages (from requests->alpha_vantage) (1.24.3)\n",
            "Collecting multidict<7.0,>=4.5\n",
            "\u001b[?25l  Downloading https://files.pythonhosted.org/packages/7c/a6/4123b8165acbe773d1a8dc8e3f0d1edea16d29f7de018eda769abb56bd30/multidict-5.1.0-cp37-cp37m-manylinux2014_x86_64.whl (142kB)\n",
            "\u001b[K     |████████████████████████████████| 143kB 43.1MB/s \n",
            "\u001b[?25hRequirement already satisfied: attrs>=17.3.0 in /usr/local/lib/python3.7/dist-packages (from aiohttp->alpha_vantage) (21.2.0)\n",
            "Collecting async-timeout<4.0,>=3.0\n",
            "  Downloading https://files.pythonhosted.org/packages/e1/1e/5a4441be21b0726c4464f3f23c8b19628372f606755a9d2e46c187e65ec4/async_timeout-3.0.1-py3-none-any.whl\n",
            "Requirement already satisfied: typing-extensions>=3.6.5 in /usr/local/lib/python3.7/dist-packages (from aiohttp->alpha_vantage) (3.7.4.3)\n",
            "Collecting yarl<2.0,>=1.0\n",
            "\u001b[?25l  Downloading https://files.pythonhosted.org/packages/f1/62/046834c5fc998c88ab2ef722f5d42122230a632212c8afa76418324f53ff/yarl-1.6.3-cp37-cp37m-manylinux2014_x86_64.whl (294kB)\n",
            "\u001b[K     |████████████████████████████████| 296kB 37.6MB/s \n",
            "\u001b[?25hInstalling collected packages: multidict, async-timeout, yarl, aiohttp, alpha-vantage\n",
            "Successfully installed aiohttp-3.7.4.post0 alpha-vantage-2.3.1 async-timeout-3.0.1 multidict-5.1.0 yarl-1.6.3\n"
          ],
          "name": "stdout"
        }
      ]
    },
    {
      "cell_type": "markdown",
      "metadata": {
        "id": "ycOTHkgmHA-I"
      },
      "source": [
        "# AlphaVantage API Data"
      ]
    },
    {
      "cell_type": "code",
      "metadata": {
        "id": "QYza-LGKI-Ml",
        "colab": {
          "base_uri": "https://localhost:8080/",
          "height": 980
        },
        "outputId": "293f0244-55d9-4b6b-c231-c072d9eb64dd"
      },
      "source": [
        "from alpha_vantage.timeseries import  TimeSeries\n",
        "from alpha_vantage.techindicators import TechIndicators\n",
        "import pandas as pd\n",
        "import time\n",
        "\n",
        "tickers = ['AMD', 'SPY', 'TSLA', 'AAPL', 'AMZN', 'OPEN', 'SNAP', 'GOOG', 'NVDA']\n",
        "ticker = ticker[0]\n",
        "\n",
        "#update the ti for API call limit\n",
        "API_key = '04ZKSL2N50GIBN85'    #steens key\n",
        "ti = TechIndicators(key = API_key, output_format='pandas')\n",
        "\n",
        "data_rsi15 = ti.get_rsi(ticker, interval='daily',time_period=15, series_type='close')\n",
        "data_ema5 = ti.get_ema(ticker,interval='daily',time_period=5, series_type='close')\n",
        "data_ema10 = ti.get_ema(ticker,interval='daily',time_period=10, series_type='close')\n",
        "data_ema20 = ti.get_ema(ticker,interval='daily',time_period=20, series_type='close')\n",
        "data_ema125 = ti.get_ema(ticker,interval='daily',time_period=125, series_type='close')\n",
        "\n",
        "#update the ti for API call limit\n",
        "API_key = 'D6XW69E9UXBCXJBK'     #steen@yopmail.com\n",
        "ti = TechIndicators(key = API_key, output_format='pandas')\n",
        "\n",
        "data_adx5 = ti.get_adx(ticker,interval='daily',time_period=5)\n",
        "data_adx10 = ti.get_adx(ticker,interval='daily',time_period=10)\n",
        "data_adx20 = ti.get_adx(ticker,interval='daily',time_period=15)\n",
        "\n",
        "#update the ti for API call limit\n",
        "API_key = '50F3VWQLVV9C4HGT'    #kevins key\n",
        "ti = TechIndicators(key = API_key, output_format='pandas')\n",
        "\n",
        "data_bb5 = ti.get_bbands(ticker,interval='daily',time_period=5, series_type='close')\n",
        "data_bb10 = ti.get_bbands(ticker,interval='daily',time_period=10, series_type='close')\n",
        "data_bb20 = ti.get_bbands(ticker,interval='daily',time_period=20, series_type='close')\n",
        "\n",
        "print(data_bb5)\n",
        "bb5_df = data_bb5[0].iloc[::-1]\n",
        "bb10_df = data_bb10[0].iloc[::-1]\n",
        "bb20_df = data_bb20[0].iloc[::-1]\n",
        "print(data_bb5)\n",
        "\n",
        "\n",
        "API_key = \"PK3E26W0JBG0A8LI\"  # steen other email key\n",
        "ts = TimeSeries(key = API_key, output_format='pandas')\n",
        "\n",
        "# make sure that the call limit has not been met\n",
        "data = ts.get_daily_adjusted(ticker, outputsize='full')\n",
        "# inverts the DF to fit technical format\n",
        "data = data[0].iloc[::-1]\n",
        "# trims to match size of other df\n",
        "data = data.iloc[29:]\n",
        "data"
      ],
      "execution_count": 45,
      "outputs": [
        {
          "output_type": "stream",
          "text": [
            "(            Real Middle Band  Real Lower Band  Real Upper Band\n",
            "date                                                          \n",
            "2021-05-14          130.6200         128.2938         132.9462\n",
            "2021-05-13          131.1700         127.6227         134.7173\n",
            "2021-05-12          131.6460         128.2067         135.0853\n",
            "2021-05-11          132.5920         130.7486         134.4354\n",
            "2021-05-10          132.4880         130.3558         134.6202\n",
            "...                      ...              ...              ...\n",
            "1999-12-01           27.7189          26.7969          28.6409\n",
            "1999-11-30           27.3630          26.4029          28.3230\n",
            "1999-11-29           27.6024          25.9036          29.3013\n",
            "1999-11-26           27.3709          25.5685          29.1733\n",
            "1999-11-24           27.7427          25.4857          29.9997\n",
            "\n",
            "[5402 rows x 3 columns], {'1: Symbol': 'A', '2: Indicator': 'Bollinger Bands (BBANDS)', '3: Last Refreshed': '2021-05-14', '4: Interval': 'daily', '5: Time Period': 5, '6.1: Deviation multiplier for upper band': 2, '6.2: Deviation multiplier for lower band': 2, '6.3: MA Type': 0, '7: Series Type': 'close', '8: Time Zone': 'US/Eastern Time'})\n",
            "(            Real Middle Band  Real Lower Band  Real Upper Band\n",
            "date                                                          \n",
            "2021-05-14          130.6200         128.2938         132.9462\n",
            "2021-05-13          131.1700         127.6227         134.7173\n",
            "2021-05-12          131.6460         128.2067         135.0853\n",
            "2021-05-11          132.5920         130.7486         134.4354\n",
            "2021-05-10          132.4880         130.3558         134.6202\n",
            "...                      ...              ...              ...\n",
            "1999-12-01           27.7189          26.7969          28.6409\n",
            "1999-11-30           27.3630          26.4029          28.3230\n",
            "1999-11-29           27.6024          25.9036          29.3013\n",
            "1999-11-26           27.3709          25.5685          29.1733\n",
            "1999-11-24           27.7427          25.4857          29.9997\n",
            "\n",
            "[5402 rows x 3 columns], {'1: Symbol': 'A', '2: Indicator': 'Bollinger Bands (BBANDS)', '3: Last Refreshed': '2021-05-14', '4: Interval': 'daily', '5: Time Period': 5, '6.1: Deviation multiplier for upper band': 2, '6.2: Deviation multiplier for lower band': 2, '6.3: MA Type': 0, '7: Series Type': 'close', '8: Time Zone': 'US/Eastern Time'})\n"
          ],
          "name": "stdout"
        },
        {
          "output_type": "execute_result",
          "data": {
            "text/html": [
              "<div>\n",
              "<style scoped>\n",
              "    .dataframe tbody tr th:only-of-type {\n",
              "        vertical-align: middle;\n",
              "    }\n",
              "\n",
              "    .dataframe tbody tr th {\n",
              "        vertical-align: top;\n",
              "    }\n",
              "\n",
              "    .dataframe thead th {\n",
              "        text-align: right;\n",
              "    }\n",
              "</style>\n",
              "<table border=\"1\" class=\"dataframe\">\n",
              "  <thead>\n",
              "    <tr style=\"text-align: right;\">\n",
              "      <th></th>\n",
              "      <th>1. open</th>\n",
              "      <th>2. high</th>\n",
              "      <th>3. low</th>\n",
              "      <th>4. close</th>\n",
              "      <th>5. adjusted close</th>\n",
              "      <th>6. volume</th>\n",
              "      <th>7. dividend amount</th>\n",
              "      <th>8. split coefficient</th>\n",
              "    </tr>\n",
              "    <tr>\n",
              "      <th>date</th>\n",
              "      <th></th>\n",
              "      <th></th>\n",
              "      <th></th>\n",
              "      <th></th>\n",
              "      <th></th>\n",
              "      <th></th>\n",
              "      <th></th>\n",
              "      <th></th>\n",
              "    </tr>\n",
              "  </thead>\n",
              "  <tbody>\n",
              "    <tr>\n",
              "      <th>1999-12-31</th>\n",
              "      <td>79.50</td>\n",
              "      <td>79.940</td>\n",
              "      <td>76.25</td>\n",
              "      <td>77.31</td>\n",
              "      <td>51.141833</td>\n",
              "      <td>1381400.0</td>\n",
              "      <td>0.0</td>\n",
              "      <td>1.0</td>\n",
              "    </tr>\n",
              "    <tr>\n",
              "      <th>2000-01-03</th>\n",
              "      <td>78.75</td>\n",
              "      <td>78.940</td>\n",
              "      <td>67.38</td>\n",
              "      <td>72.00</td>\n",
              "      <td>47.629180</td>\n",
              "      <td>3343600.0</td>\n",
              "      <td>0.0</td>\n",
              "      <td>1.0</td>\n",
              "    </tr>\n",
              "    <tr>\n",
              "      <th>2000-01-04</th>\n",
              "      <td>68.13</td>\n",
              "      <td>68.880</td>\n",
              "      <td>64.75</td>\n",
              "      <td>66.50</td>\n",
              "      <td>43.990840</td>\n",
              "      <td>3408500.0</td>\n",
              "      <td>0.0</td>\n",
              "      <td>1.0</td>\n",
              "    </tr>\n",
              "    <tr>\n",
              "      <th>2000-01-05</th>\n",
              "      <td>66.25</td>\n",
              "      <td>66.310</td>\n",
              "      <td>61.31</td>\n",
              "      <td>61.56</td>\n",
              "      <td>40.722949</td>\n",
              "      <td>4119200.0</td>\n",
              "      <td>0.0</td>\n",
              "      <td>1.0</td>\n",
              "    </tr>\n",
              "    <tr>\n",
              "      <th>2000-01-06</th>\n",
              "      <td>61.63</td>\n",
              "      <td>62.000</td>\n",
              "      <td>58.13</td>\n",
              "      <td>60.00</td>\n",
              "      <td>39.690984</td>\n",
              "      <td>1812900.0</td>\n",
              "      <td>0.0</td>\n",
              "      <td>1.0</td>\n",
              "    </tr>\n",
              "    <tr>\n",
              "      <th>...</th>\n",
              "      <td>...</td>\n",
              "      <td>...</td>\n",
              "      <td>...</td>\n",
              "      <td>...</td>\n",
              "      <td>...</td>\n",
              "      <td>...</td>\n",
              "      <td>...</td>\n",
              "      <td>...</td>\n",
              "    </tr>\n",
              "    <tr>\n",
              "      <th>2021-05-10</th>\n",
              "      <td>133.76</td>\n",
              "      <td>133.930</td>\n",
              "      <td>131.76</td>\n",
              "      <td>131.87</td>\n",
              "      <td>131.870000</td>\n",
              "      <td>1034320.0</td>\n",
              "      <td>0.0</td>\n",
              "      <td>1.0</td>\n",
              "    </tr>\n",
              "    <tr>\n",
              "      <th>2021-05-11</th>\n",
              "      <td>130.27</td>\n",
              "      <td>131.840</td>\n",
              "      <td>129.30</td>\n",
              "      <td>131.42</td>\n",
              "      <td>131.420000</td>\n",
              "      <td>1336638.0</td>\n",
              "      <td>0.0</td>\n",
              "      <td>1.0</td>\n",
              "    </tr>\n",
              "    <tr>\n",
              "      <th>2021-05-12</th>\n",
              "      <td>130.34</td>\n",
              "      <td>131.165</td>\n",
              "      <td>128.47</td>\n",
              "      <td>128.64</td>\n",
              "      <td>128.640000</td>\n",
              "      <td>1256451.0</td>\n",
              "      <td>0.0</td>\n",
              "      <td>1.0</td>\n",
              "    </tr>\n",
              "    <tr>\n",
              "      <th>2021-05-13</th>\n",
              "      <td>129.61</td>\n",
              "      <td>130.760</td>\n",
              "      <td>129.26</td>\n",
              "      <td>130.02</td>\n",
              "      <td>130.020000</td>\n",
              "      <td>805888.0</td>\n",
              "      <td>0.0</td>\n",
              "      <td>1.0</td>\n",
              "    </tr>\n",
              "    <tr>\n",
              "      <th>2021-05-14</th>\n",
              "      <td>130.47</td>\n",
              "      <td>131.690</td>\n",
              "      <td>130.45</td>\n",
              "      <td>131.15</td>\n",
              "      <td>131.150000</td>\n",
              "      <td>770649.0</td>\n",
              "      <td>0.0</td>\n",
              "      <td>1.0</td>\n",
              "    </tr>\n",
              "  </tbody>\n",
              "</table>\n",
              "<p>5377 rows × 8 columns</p>\n",
              "</div>"
            ],
            "text/plain": [
              "            1. open  2. high  ...  7. dividend amount  8. split coefficient\n",
              "date                          ...                                          \n",
              "1999-12-31    79.50   79.940  ...                 0.0                   1.0\n",
              "2000-01-03    78.75   78.940  ...                 0.0                   1.0\n",
              "2000-01-04    68.13   68.880  ...                 0.0                   1.0\n",
              "2000-01-05    66.25   66.310  ...                 0.0                   1.0\n",
              "2000-01-06    61.63   62.000  ...                 0.0                   1.0\n",
              "...             ...      ...  ...                 ...                   ...\n",
              "2021-05-10   133.76  133.930  ...                 0.0                   1.0\n",
              "2021-05-11   130.27  131.840  ...                 0.0                   1.0\n",
              "2021-05-12   130.34  131.165  ...                 0.0                   1.0\n",
              "2021-05-13   129.61  130.760  ...                 0.0                   1.0\n",
              "2021-05-14   130.47  131.690  ...                 0.0                   1.0\n",
              "\n",
              "[5377 rows x 8 columns]"
            ]
          },
          "metadata": {
            "tags": []
          },
          "execution_count": 45
        }
      ]
    },
    {
      "cell_type": "code",
      "metadata": {
        "colab": {
          "base_uri": "https://localhost:8080/",
          "height": 231
        },
        "id": "AkDUfHu9bhLN",
        "outputId": "ea17b95a-04a1-455a-8577-be2a6f023856"
      },
      "source": [
        "# this code trims the data for each indicator type to fit into one dataframe, with ema5 heading the list\n",
        "ema5_df = data_ema5[0]\n",
        "ema5_df = ema5_df.iloc[145:]\n",
        "ema10_df = data_ema10[0]\n",
        "ema10_df = ema10_df.iloc[140:]\n",
        "ema20_df = data_ema20[0]\n",
        "ema20_df = ema20_df.iloc[130:]\n",
        "ema125_df = data_ema125[0]\n",
        "ema125_df = ema125_df.iloc[25:]\n",
        "rsi15_df = data_rsi15[0]\n",
        "rsi15_df = rsi15_df.iloc[134:]\n",
        "adx5_df = data_adx5[0]\n",
        "adx5_df = adx5_df.iloc[140:]\n",
        "adx10_df = data_adx10[0]\n",
        "adx10_df = adx10_df.iloc[130:]\n",
        "adx20_df = data_adx20[0]\n",
        "adx20_df = adx20_df.iloc[120:]\n",
        "bb5_df = bb5_df.iloc[145:]\n",
        "bb10_df = bb10_df.iloc[140:]\n",
        "bb20_df = bb20_df.iloc[130:]\n",
        "\n",
        "print(ema5_df.shape)\n",
        "print(ema10_df.shape)\n",
        "print(ema20_df.shape)\n",
        "print(ema125_df.shape)\n",
        "print(rsi15_df.shape)\n",
        "print(adx5_df.shape)\n",
        "print(adx10_df.shape)\n",
        "print(adx20_df.shape)\n",
        "print(bb5_df.shape)\n",
        "print(bb10_df.shape)\n",
        "print(bb20_df.shape)\n",
        "print(bb5_df)\n",
        "print(ema10_df)\n",
        "\n",
        "\n",
        "#this is used to dynamically merge all dataframes using it as an element of the below loop\n",
        "df_list = []\n",
        "\n",
        "# storing everything in a tuple so we can access the column name and the DF itself\n",
        "ema5_df = (ema5_df,\"EMA_5\")\n",
        "ema10_df = (ema10_df,\"EMA_10\")\n",
        "ema20_df = (ema20_df,\"EMA_20\")\n",
        "ema125_df = (ema125_df,\"EMA_125\")\n",
        "adx5_df = (adx5_df,\"ADX_5\")\n",
        "adx10_df = (adx10_df,\"ADX_10\")\n",
        "adx20_df = (adx20_df,\"ADX_20\")\n",
        "bb5_df = (bb5_df,\"BB_5\")\n",
        "bb10_df = (bb10_df,\"BB_10\")\n",
        "bb20_df = (bb20_df,\"BB_20\")\n",
        "rsi15_df = (rsi15_df,\"RSI_15\")\n",
        "\n",
        "#appending the items to our list\n",
        "df_list.append(ema5_df)\n",
        "df_list.append(ema10_df)\n",
        "df_list.append(ema20_df)\n",
        "df_list.append(ema125_df)\n",
        "df_list.append(adx5_df)\n",
        "df_list.append(adx10_df)\n",
        "df_list.append(adx20_df)\n",
        "df_list.append(bb5_df)\n",
        "df_list.append(bb10_df)\n",
        "df_list.append(bb20_df)\n",
        "df_list.append(rsi15_df)\n",
        "\n",
        "#iterating across our list to fill our DF with our trimmed values\n",
        "for dataframe_tuple in df_list:\n",
        "  cur_dataframe, indicator_type = dataframe_tuple\n",
        "  if indicator_type[0:3] == \"EMA\":\n",
        "    temp = \"EMA\"\n",
        "  elif indicator_type[0:3] == \"RSI\":\n",
        "    temp = \"RSI\"\n",
        "  elif indicator_type[0:3] == \"RSI\":\n",
        "    temp = \"RSI\"\n",
        "  elif indicator_type[0:3] == \"ADX\":  \n",
        "    temp = \"ADX\"\n",
        "  elif indicator_type[0:3] == \"WMA\":  \n",
        "    temp = \"WMA\"\n",
        "  else:\n",
        "    temp = indicator_type\n",
        "  temp_list = list(cur_dataframe[temp])\n",
        "  data[indicator_type] = temp_list\n",
        "\n",
        "# rename the EMA column and renaming the DF\n",
        "data"
      ],
      "execution_count": 44,
      "outputs": [
        {
          "output_type": "error",
          "ename": "AttributeError",
          "evalue": "ignored",
          "traceback": [
            "\u001b[0;31m---------------------------------------------------------------------------\u001b[0m",
            "\u001b[0;31mAttributeError\u001b[0m                            Traceback (most recent call last)",
            "\u001b[0;32m<ipython-input-44-ef886cb47c64>\u001b[0m in \u001b[0;36m<module>\u001b[0;34m()\u001b[0m\n\u001b[1;32m     16\u001b[0m \u001b[0madx20_df\u001b[0m \u001b[0;34m=\u001b[0m \u001b[0mdata_adx20\u001b[0m\u001b[0;34m[\u001b[0m\u001b[0;36m0\u001b[0m\u001b[0;34m]\u001b[0m\u001b[0;34m\u001b[0m\u001b[0;34m\u001b[0m\u001b[0m\n\u001b[1;32m     17\u001b[0m \u001b[0madx20_df\u001b[0m \u001b[0;34m=\u001b[0m \u001b[0madx20_df\u001b[0m\u001b[0;34m.\u001b[0m\u001b[0miloc\u001b[0m\u001b[0;34m[\u001b[0m\u001b[0;36m120\u001b[0m\u001b[0;34m:\u001b[0m\u001b[0;34m]\u001b[0m\u001b[0;34m\u001b[0m\u001b[0;34m\u001b[0m\u001b[0m\n\u001b[0;32m---> 18\u001b[0;31m \u001b[0mbb5_df\u001b[0m \u001b[0;34m=\u001b[0m \u001b[0mbb5_df\u001b[0m\u001b[0;34m.\u001b[0m\u001b[0miloc\u001b[0m\u001b[0;34m[\u001b[0m\u001b[0;36m145\u001b[0m\u001b[0;34m:\u001b[0m\u001b[0;34m]\u001b[0m\u001b[0;34m\u001b[0m\u001b[0;34m\u001b[0m\u001b[0m\n\u001b[0m\u001b[1;32m     19\u001b[0m \u001b[0mbb10_df\u001b[0m \u001b[0;34m=\u001b[0m \u001b[0mbb10_df\u001b[0m\u001b[0;34m.\u001b[0m\u001b[0miloc\u001b[0m\u001b[0;34m[\u001b[0m\u001b[0;36m140\u001b[0m\u001b[0;34m:\u001b[0m\u001b[0;34m]\u001b[0m\u001b[0;34m\u001b[0m\u001b[0;34m\u001b[0m\u001b[0m\n\u001b[1;32m     20\u001b[0m \u001b[0mbb20_df\u001b[0m \u001b[0;34m=\u001b[0m \u001b[0mbb20_df\u001b[0m\u001b[0;34m.\u001b[0m\u001b[0miloc\u001b[0m\u001b[0;34m[\u001b[0m\u001b[0;36m130\u001b[0m\u001b[0;34m:\u001b[0m\u001b[0;34m]\u001b[0m\u001b[0;34m\u001b[0m\u001b[0;34m\u001b[0m\u001b[0m\n",
            "\u001b[0;31mAttributeError\u001b[0m: 'tuple' object has no attribute 'iloc'"
          ]
        }
      ]
    },
    {
      "cell_type": "code",
      "metadata": {
        "id": "voW3y6TOR5wH"
      },
      "source": [
        "data.to_csv('file_name.csv')"
      ],
      "execution_count": null,
      "outputs": []
    },
    {
      "cell_type": "markdown",
      "metadata": {
        "id": "jZT99H0DG0sD"
      },
      "source": [
        "# LSTM Keras Model"
      ]
    },
    {
      "cell_type": "code",
      "metadata": {
        "id": "5fzyX-KFHEtx"
      },
      "source": [
        "import numpy as np\n",
        "import matplotlib.pyplot as plt\n",
        "import pandas as pd"
      ],
      "execution_count": null,
      "outputs": []
    },
    {
      "cell_type": "code",
      "metadata": {
        "id": "5T6FOLz1oI3g"
      },
      "source": [
        "# ADD COMMENTS\n",
        "# TRAIN THE MODEL"
      ],
      "execution_count": null,
      "outputs": []
    },
    {
      "cell_type": "code",
      "metadata": {
        "id": "3dJCUpUgHPl9",
        "colab": {
          "base_uri": "https://localhost:8080/"
        },
        "outputId": "45bac299-6055-4999-ba37-8c8089670cf2"
      },
      "source": [
        "url = 'https://raw.githubusercontent.com/mwitiderrick/stockprice/master/NSE-TATAGLOBAL.csv'\n",
        "url = 'file_name.csv'\n",
        "\n",
        "dataset_train = pd.read_csv(url)\n",
        "# Pure integer based indexing.\n",
        "# https://pandas.pydata.org/docs/reference/api/pandas.DataFrame.iloc.html\n",
        "training_set = dataset_train.iloc[:, [4, 6, 9, 10, 11]].values\n",
        "training_set = dataset_train.iloc[:, [4, 6, 9, 10, 11]].values\n",
        "length = len(dataset_train)\n",
        "dataset_train.head()\n",
        "training_set"
      ],
      "execution_count": null,
      "outputs": [
        {
          "output_type": "execute_result",
          "data": {
            "text/plain": [
              "array([[2.9070000e+01, 1.9631000e+06, 1.4773000e+01, 1.4692700e+01,\n",
              "        1.4375400e+01],\n",
              "       [2.7630000e+01, 2.7276000e+06, 1.4453700e+01, 1.4533100e+01,\n",
              "        1.4305400e+01],\n",
              "       [2.7130000e+01, 3.2139000e+06, 1.4157400e+01, 1.4357100e+01,\n",
              "        1.4212800e+01],\n",
              "       ...,\n",
              "       [7.6830000e+01, 5.1008239e+07, 7.7598200e+01, 7.8776900e+01,\n",
              "        7.9427000e+01],\n",
              "       [7.4640000e+01, 4.2531423e+07, 7.6612100e+01, 7.8024700e+01,\n",
              "        7.8828600e+01],\n",
              "       [7.3090000e+01, 4.8515001e+07, 7.5438100e+01, 7.7127500e+01,\n",
              "        7.8111300e+01]])"
            ]
          },
          "metadata": {
            "tags": []
          },
          "execution_count": 20
        }
      ]
    },
    {
      "cell_type": "code",
      "metadata": {
        "id": "5qAGwhLMiV6V",
        "colab": {
          "base_uri": "https://localhost:8080/"
        },
        "outputId": "fdc1b227-db2f-4553-a633-446f267095ac"
      },
      "source": [
        "from sklearn.preprocessing import MinMaxScaler\n",
        "sc = MinMaxScaler(feature_range=(0,1)).fit(training_set)\n",
        "print(sc)\n",
        "training_set_scaled = sc.fit_transform(training_set)\n",
        "\n",
        "training_set_scaled"
      ],
      "execution_count": null,
      "outputs": [
        {
          "output_type": "stream",
          "text": [
            "MinMaxScaler(copy=True, feature_range=(0, 1))\n"
          ],
          "name": "stdout"
        },
        {
          "output_type": "execute_result",
          "data": {
            "text/plain": [
              "array([[0.28704381, 0.00443865, 0.13899538, 0.13973886, 0.13745432],\n",
              "       [0.27198578, 0.00679432, 0.13560066, 0.13801765, 0.13669192],\n",
              "       [0.26675729, 0.00829277, 0.13245047, 0.13611956, 0.13568336],\n",
              "       ...,\n",
              "       [0.78646868, 0.15556262, 0.80693786, 0.83085917, 0.84596551],\n",
              "       [0.76356792, 0.1294428 , 0.79645388, 0.82274702, 0.83944802],\n",
              "       [0.74735962, 0.14788014, 0.7839722 , 0.81307111, 0.83163553]])"
            ]
          },
          "metadata": {
            "tags": []
          },
          "execution_count": 21
        }
      ]
    },
    {
      "cell_type": "code",
      "metadata": {
        "id": "MWdiM6t1iW1x"
      },
      "source": [
        "from sklearn.model_selection import train_test_split\n",
        "\n",
        "X_data = []\n",
        "y_data = []\n",
        "\n",
        "for i in range(60, length):\n",
        "  X_data.append(training_set_scaled[i-60:i, 0])\n",
        "  y_data.append(training_set_scaled[i, 0])\n",
        "\n",
        "X_data = np.array(X_data)\n",
        "X_train, X_test, y_train, y_test = train_test_split(X_data, y_data, test_size=0.33, random_state=42)\n",
        "y_train = np.array(y_train)\n",
        "y_test = np.array(y_test)\n",
        "# X_train, y_train = np.array(X_train), np.array(y_train)"
      ],
      "execution_count": 67,
      "outputs": []
    },
    {
      "cell_type": "code",
      "metadata": {
        "id": "eeNXBH-yiYXW"
      },
      "source": [
        "from keras.models import Sequential\n",
        "from keras.layers import LSTM\n",
        "from keras.layers import Dropout\n",
        "from keras.layers import Dense"
      ],
      "execution_count": null,
      "outputs": []
    },
    {
      "cell_type": "code",
      "metadata": {
        "id": "3wUmoyKbiZ_Z",
        "colab": {
          "base_uri": "https://localhost:8080/",
          "height": 0
        },
        "outputId": "beb8b47a-42f6-4095-c015-de738aa4f318"
      },
      "source": [
        "# ADDING COMMENTS\n",
        "model = Sequential()\n",
        "model.add(LSTM(units=50,return_sequences=True,input_shape=(X_train.shape[1], 1)))\n",
        "model.add(Dropout(0.2))\n",
        "model.add(LSTM(units=50,return_sequences=True))\n",
        "model.add(Dropout(0.2))\n",
        "model.add(LSTM(units=50,return_sequences=True))\n",
        "model.add(Dropout(0.2))\n",
        "model.add(LSTM(units=50))\n",
        "model.add(Dropout(0.2))\n",
        "model.add(Dense(units=1))\n",
        "model.compile(optimizer='adam',loss='mean_squared_error', metrics=['accuracy'])\n",
        "model.fit(X_train,y_train,epochs=100,batch_size=32)"
      ],
      "execution_count": 68,
      "outputs": [
        {
          "output_type": "stream",
          "text": [
            "Epoch 1/100\n"
          ],
          "name": "stdout"
        },
        {
          "output_type": "error",
          "ename": "ValueError",
          "evalue": "ignored",
          "traceback": [
            "\u001b[0;31m---------------------------------------------------------------------------\u001b[0m",
            "\u001b[0;31mValueError\u001b[0m                                Traceback (most recent call last)",
            "\u001b[0;32m<ipython-input-68-a3948ddefd55>\u001b[0m in \u001b[0;36m<module>\u001b[0;34m()\u001b[0m\n\u001b[1;32m     11\u001b[0m \u001b[0mmodel\u001b[0m\u001b[0;34m.\u001b[0m\u001b[0madd\u001b[0m\u001b[0;34m(\u001b[0m\u001b[0mDense\u001b[0m\u001b[0;34m(\u001b[0m\u001b[0munits\u001b[0m\u001b[0;34m=\u001b[0m\u001b[0;36m1\u001b[0m\u001b[0;34m)\u001b[0m\u001b[0;34m)\u001b[0m\u001b[0;34m\u001b[0m\u001b[0;34m\u001b[0m\u001b[0m\n\u001b[1;32m     12\u001b[0m \u001b[0mmodel\u001b[0m\u001b[0;34m.\u001b[0m\u001b[0mcompile\u001b[0m\u001b[0;34m(\u001b[0m\u001b[0moptimizer\u001b[0m\u001b[0;34m=\u001b[0m\u001b[0;34m'adam'\u001b[0m\u001b[0;34m,\u001b[0m\u001b[0mloss\u001b[0m\u001b[0;34m=\u001b[0m\u001b[0;34m'mean_squared_error'\u001b[0m\u001b[0;34m)\u001b[0m\u001b[0;34m\u001b[0m\u001b[0;34m\u001b[0m\u001b[0m\n\u001b[0;32m---> 13\u001b[0;31m \u001b[0mmodel\u001b[0m\u001b[0;34m.\u001b[0m\u001b[0mfit\u001b[0m\u001b[0;34m(\u001b[0m\u001b[0mX_train\u001b[0m\u001b[0;34m,\u001b[0m\u001b[0my_train\u001b[0m\u001b[0;34m,\u001b[0m\u001b[0mepochs\u001b[0m\u001b[0;34m=\u001b[0m\u001b[0;36m100\u001b[0m\u001b[0;34m,\u001b[0m\u001b[0mbatch_size\u001b[0m\u001b[0;34m=\u001b[0m\u001b[0;36m32\u001b[0m\u001b[0;34m)\u001b[0m\u001b[0;34m\u001b[0m\u001b[0;34m\u001b[0m\u001b[0m\n\u001b[0m",
            "\u001b[0;32m/usr/local/lib/python3.7/dist-packages/tensorflow/python/keras/engine/training.py\u001b[0m in \u001b[0;36mfit\u001b[0;34m(self, x, y, batch_size, epochs, verbose, callbacks, validation_split, validation_data, shuffle, class_weight, sample_weight, initial_epoch, steps_per_epoch, validation_steps, validation_batch_size, validation_freq, max_queue_size, workers, use_multiprocessing)\u001b[0m\n\u001b[1;32m   1098\u001b[0m                 _r=1):\n\u001b[1;32m   1099\u001b[0m               \u001b[0mcallbacks\u001b[0m\u001b[0;34m.\u001b[0m\u001b[0mon_train_batch_begin\u001b[0m\u001b[0;34m(\u001b[0m\u001b[0mstep\u001b[0m\u001b[0;34m)\u001b[0m\u001b[0;34m\u001b[0m\u001b[0;34m\u001b[0m\u001b[0m\n\u001b[0;32m-> 1100\u001b[0;31m               \u001b[0mtmp_logs\u001b[0m \u001b[0;34m=\u001b[0m \u001b[0mself\u001b[0m\u001b[0;34m.\u001b[0m\u001b[0mtrain_function\u001b[0m\u001b[0;34m(\u001b[0m\u001b[0miterator\u001b[0m\u001b[0;34m)\u001b[0m\u001b[0;34m\u001b[0m\u001b[0;34m\u001b[0m\u001b[0m\n\u001b[0m\u001b[1;32m   1101\u001b[0m               \u001b[0;32mif\u001b[0m \u001b[0mdata_handler\u001b[0m\u001b[0;34m.\u001b[0m\u001b[0mshould_sync\u001b[0m\u001b[0;34m:\u001b[0m\u001b[0;34m\u001b[0m\u001b[0;34m\u001b[0m\u001b[0m\n\u001b[1;32m   1102\u001b[0m                 \u001b[0mcontext\u001b[0m\u001b[0;34m.\u001b[0m\u001b[0masync_wait\u001b[0m\u001b[0;34m(\u001b[0m\u001b[0;34m)\u001b[0m\u001b[0;34m\u001b[0m\u001b[0;34m\u001b[0m\u001b[0m\n",
            "\u001b[0;32m/usr/local/lib/python3.7/dist-packages/tensorflow/python/eager/def_function.py\u001b[0m in \u001b[0;36m__call__\u001b[0;34m(self, *args, **kwds)\u001b[0m\n\u001b[1;32m    826\u001b[0m     \u001b[0mtracing_count\u001b[0m \u001b[0;34m=\u001b[0m \u001b[0mself\u001b[0m\u001b[0;34m.\u001b[0m\u001b[0mexperimental_get_tracing_count\u001b[0m\u001b[0;34m(\u001b[0m\u001b[0;34m)\u001b[0m\u001b[0;34m\u001b[0m\u001b[0;34m\u001b[0m\u001b[0m\n\u001b[1;32m    827\u001b[0m     \u001b[0;32mwith\u001b[0m \u001b[0mtrace\u001b[0m\u001b[0;34m.\u001b[0m\u001b[0mTrace\u001b[0m\u001b[0;34m(\u001b[0m\u001b[0mself\u001b[0m\u001b[0;34m.\u001b[0m\u001b[0m_name\u001b[0m\u001b[0;34m)\u001b[0m \u001b[0;32mas\u001b[0m \u001b[0mtm\u001b[0m\u001b[0;34m:\u001b[0m\u001b[0;34m\u001b[0m\u001b[0;34m\u001b[0m\u001b[0m\n\u001b[0;32m--> 828\u001b[0;31m       \u001b[0mresult\u001b[0m \u001b[0;34m=\u001b[0m \u001b[0mself\u001b[0m\u001b[0;34m.\u001b[0m\u001b[0m_call\u001b[0m\u001b[0;34m(\u001b[0m\u001b[0;34m*\u001b[0m\u001b[0margs\u001b[0m\u001b[0;34m,\u001b[0m \u001b[0;34m**\u001b[0m\u001b[0mkwds\u001b[0m\u001b[0;34m)\u001b[0m\u001b[0;34m\u001b[0m\u001b[0;34m\u001b[0m\u001b[0m\n\u001b[0m\u001b[1;32m    829\u001b[0m       \u001b[0mcompiler\u001b[0m \u001b[0;34m=\u001b[0m \u001b[0;34m\"xla\"\u001b[0m \u001b[0;32mif\u001b[0m \u001b[0mself\u001b[0m\u001b[0;34m.\u001b[0m\u001b[0m_experimental_compile\u001b[0m \u001b[0;32melse\u001b[0m \u001b[0;34m\"nonXla\"\u001b[0m\u001b[0;34m\u001b[0m\u001b[0;34m\u001b[0m\u001b[0m\n\u001b[1;32m    830\u001b[0m       \u001b[0mnew_tracing_count\u001b[0m \u001b[0;34m=\u001b[0m \u001b[0mself\u001b[0m\u001b[0;34m.\u001b[0m\u001b[0mexperimental_get_tracing_count\u001b[0m\u001b[0;34m(\u001b[0m\u001b[0;34m)\u001b[0m\u001b[0;34m\u001b[0m\u001b[0;34m\u001b[0m\u001b[0m\n",
            "\u001b[0;32m/usr/local/lib/python3.7/dist-packages/tensorflow/python/eager/def_function.py\u001b[0m in \u001b[0;36m_call\u001b[0;34m(self, *args, **kwds)\u001b[0m\n\u001b[1;32m    869\u001b[0m       \u001b[0;31m# This is the first call of __call__, so we have to initialize.\u001b[0m\u001b[0;34m\u001b[0m\u001b[0;34m\u001b[0m\u001b[0;34m\u001b[0m\u001b[0m\n\u001b[1;32m    870\u001b[0m       \u001b[0minitializers\u001b[0m \u001b[0;34m=\u001b[0m \u001b[0;34m[\u001b[0m\u001b[0;34m]\u001b[0m\u001b[0;34m\u001b[0m\u001b[0;34m\u001b[0m\u001b[0m\n\u001b[0;32m--> 871\u001b[0;31m       \u001b[0mself\u001b[0m\u001b[0;34m.\u001b[0m\u001b[0m_initialize\u001b[0m\u001b[0;34m(\u001b[0m\u001b[0margs\u001b[0m\u001b[0;34m,\u001b[0m \u001b[0mkwds\u001b[0m\u001b[0;34m,\u001b[0m \u001b[0madd_initializers_to\u001b[0m\u001b[0;34m=\u001b[0m\u001b[0minitializers\u001b[0m\u001b[0;34m)\u001b[0m\u001b[0;34m\u001b[0m\u001b[0;34m\u001b[0m\u001b[0m\n\u001b[0m\u001b[1;32m    872\u001b[0m     \u001b[0;32mfinally\u001b[0m\u001b[0;34m:\u001b[0m\u001b[0;34m\u001b[0m\u001b[0;34m\u001b[0m\u001b[0m\n\u001b[1;32m    873\u001b[0m       \u001b[0;31m# At this point we know that the initialization is complete (or less\u001b[0m\u001b[0;34m\u001b[0m\u001b[0;34m\u001b[0m\u001b[0;34m\u001b[0m\u001b[0m\n",
            "\u001b[0;32m/usr/local/lib/python3.7/dist-packages/tensorflow/python/eager/def_function.py\u001b[0m in \u001b[0;36m_initialize\u001b[0;34m(self, args, kwds, add_initializers_to)\u001b[0m\n\u001b[1;32m    724\u001b[0m     self._concrete_stateful_fn = (\n\u001b[1;32m    725\u001b[0m         self._stateful_fn._get_concrete_function_internal_garbage_collected(  # pylint: disable=protected-access\n\u001b[0;32m--> 726\u001b[0;31m             *args, **kwds))\n\u001b[0m\u001b[1;32m    727\u001b[0m \u001b[0;34m\u001b[0m\u001b[0m\n\u001b[1;32m    728\u001b[0m     \u001b[0;32mdef\u001b[0m \u001b[0minvalid_creator_scope\u001b[0m\u001b[0;34m(\u001b[0m\u001b[0;34m*\u001b[0m\u001b[0munused_args\u001b[0m\u001b[0;34m,\u001b[0m \u001b[0;34m**\u001b[0m\u001b[0munused_kwds\u001b[0m\u001b[0;34m)\u001b[0m\u001b[0;34m:\u001b[0m\u001b[0;34m\u001b[0m\u001b[0;34m\u001b[0m\u001b[0m\n",
            "\u001b[0;32m/usr/local/lib/python3.7/dist-packages/tensorflow/python/eager/function.py\u001b[0m in \u001b[0;36m_get_concrete_function_internal_garbage_collected\u001b[0;34m(self, *args, **kwargs)\u001b[0m\n\u001b[1;32m   2967\u001b[0m       \u001b[0margs\u001b[0m\u001b[0;34m,\u001b[0m \u001b[0mkwargs\u001b[0m \u001b[0;34m=\u001b[0m \u001b[0;32mNone\u001b[0m\u001b[0;34m,\u001b[0m \u001b[0;32mNone\u001b[0m\u001b[0;34m\u001b[0m\u001b[0;34m\u001b[0m\u001b[0m\n\u001b[1;32m   2968\u001b[0m     \u001b[0;32mwith\u001b[0m \u001b[0mself\u001b[0m\u001b[0;34m.\u001b[0m\u001b[0m_lock\u001b[0m\u001b[0;34m:\u001b[0m\u001b[0;34m\u001b[0m\u001b[0;34m\u001b[0m\u001b[0m\n\u001b[0;32m-> 2969\u001b[0;31m       \u001b[0mgraph_function\u001b[0m\u001b[0;34m,\u001b[0m \u001b[0m_\u001b[0m \u001b[0;34m=\u001b[0m \u001b[0mself\u001b[0m\u001b[0;34m.\u001b[0m\u001b[0m_maybe_define_function\u001b[0m\u001b[0;34m(\u001b[0m\u001b[0margs\u001b[0m\u001b[0;34m,\u001b[0m \u001b[0mkwargs\u001b[0m\u001b[0;34m)\u001b[0m\u001b[0;34m\u001b[0m\u001b[0;34m\u001b[0m\u001b[0m\n\u001b[0m\u001b[1;32m   2970\u001b[0m     \u001b[0;32mreturn\u001b[0m \u001b[0mgraph_function\u001b[0m\u001b[0;34m\u001b[0m\u001b[0;34m\u001b[0m\u001b[0m\n\u001b[1;32m   2971\u001b[0m \u001b[0;34m\u001b[0m\u001b[0m\n",
            "\u001b[0;32m/usr/local/lib/python3.7/dist-packages/tensorflow/python/eager/function.py\u001b[0m in \u001b[0;36m_maybe_define_function\u001b[0;34m(self, args, kwargs)\u001b[0m\n\u001b[1;32m   3359\u001b[0m \u001b[0;34m\u001b[0m\u001b[0m\n\u001b[1;32m   3360\u001b[0m           \u001b[0mself\u001b[0m\u001b[0;34m.\u001b[0m\u001b[0m_function_cache\u001b[0m\u001b[0;34m.\u001b[0m\u001b[0mmissed\u001b[0m\u001b[0;34m.\u001b[0m\u001b[0madd\u001b[0m\u001b[0;34m(\u001b[0m\u001b[0mcall_context_key\u001b[0m\u001b[0;34m)\u001b[0m\u001b[0;34m\u001b[0m\u001b[0;34m\u001b[0m\u001b[0m\n\u001b[0;32m-> 3361\u001b[0;31m           \u001b[0mgraph_function\u001b[0m \u001b[0;34m=\u001b[0m \u001b[0mself\u001b[0m\u001b[0;34m.\u001b[0m\u001b[0m_create_graph_function\u001b[0m\u001b[0;34m(\u001b[0m\u001b[0margs\u001b[0m\u001b[0;34m,\u001b[0m \u001b[0mkwargs\u001b[0m\u001b[0;34m)\u001b[0m\u001b[0;34m\u001b[0m\u001b[0;34m\u001b[0m\u001b[0m\n\u001b[0m\u001b[1;32m   3362\u001b[0m           \u001b[0mself\u001b[0m\u001b[0;34m.\u001b[0m\u001b[0m_function_cache\u001b[0m\u001b[0;34m.\u001b[0m\u001b[0mprimary\u001b[0m\u001b[0;34m[\u001b[0m\u001b[0mcache_key\u001b[0m\u001b[0;34m]\u001b[0m \u001b[0;34m=\u001b[0m \u001b[0mgraph_function\u001b[0m\u001b[0;34m\u001b[0m\u001b[0;34m\u001b[0m\u001b[0m\n\u001b[1;32m   3363\u001b[0m \u001b[0;34m\u001b[0m\u001b[0m\n",
            "\u001b[0;32m/usr/local/lib/python3.7/dist-packages/tensorflow/python/eager/function.py\u001b[0m in \u001b[0;36m_create_graph_function\u001b[0;34m(self, args, kwargs, override_flat_arg_shapes)\u001b[0m\n\u001b[1;32m   3204\u001b[0m             \u001b[0marg_names\u001b[0m\u001b[0;34m=\u001b[0m\u001b[0marg_names\u001b[0m\u001b[0;34m,\u001b[0m\u001b[0;34m\u001b[0m\u001b[0;34m\u001b[0m\u001b[0m\n\u001b[1;32m   3205\u001b[0m             \u001b[0moverride_flat_arg_shapes\u001b[0m\u001b[0;34m=\u001b[0m\u001b[0moverride_flat_arg_shapes\u001b[0m\u001b[0;34m,\u001b[0m\u001b[0;34m\u001b[0m\u001b[0;34m\u001b[0m\u001b[0m\n\u001b[0;32m-> 3206\u001b[0;31m             capture_by_value=self._capture_by_value),\n\u001b[0m\u001b[1;32m   3207\u001b[0m         \u001b[0mself\u001b[0m\u001b[0;34m.\u001b[0m\u001b[0m_function_attributes\u001b[0m\u001b[0;34m,\u001b[0m\u001b[0;34m\u001b[0m\u001b[0;34m\u001b[0m\u001b[0m\n\u001b[1;32m   3208\u001b[0m         \u001b[0mfunction_spec\u001b[0m\u001b[0;34m=\u001b[0m\u001b[0mself\u001b[0m\u001b[0;34m.\u001b[0m\u001b[0mfunction_spec\u001b[0m\u001b[0;34m,\u001b[0m\u001b[0;34m\u001b[0m\u001b[0;34m\u001b[0m\u001b[0m\n",
            "\u001b[0;32m/usr/local/lib/python3.7/dist-packages/tensorflow/python/framework/func_graph.py\u001b[0m in \u001b[0;36mfunc_graph_from_py_func\u001b[0;34m(name, python_func, args, kwargs, signature, func_graph, autograph, autograph_options, add_control_dependencies, arg_names, op_return_value, collections, capture_by_value, override_flat_arg_shapes)\u001b[0m\n\u001b[1;32m    988\u001b[0m         \u001b[0m_\u001b[0m\u001b[0;34m,\u001b[0m \u001b[0moriginal_func\u001b[0m \u001b[0;34m=\u001b[0m \u001b[0mtf_decorator\u001b[0m\u001b[0;34m.\u001b[0m\u001b[0munwrap\u001b[0m\u001b[0;34m(\u001b[0m\u001b[0mpython_func\u001b[0m\u001b[0;34m)\u001b[0m\u001b[0;34m\u001b[0m\u001b[0;34m\u001b[0m\u001b[0m\n\u001b[1;32m    989\u001b[0m \u001b[0;34m\u001b[0m\u001b[0m\n\u001b[0;32m--> 990\u001b[0;31m       \u001b[0mfunc_outputs\u001b[0m \u001b[0;34m=\u001b[0m \u001b[0mpython_func\u001b[0m\u001b[0;34m(\u001b[0m\u001b[0;34m*\u001b[0m\u001b[0mfunc_args\u001b[0m\u001b[0;34m,\u001b[0m \u001b[0;34m**\u001b[0m\u001b[0mfunc_kwargs\u001b[0m\u001b[0;34m)\u001b[0m\u001b[0;34m\u001b[0m\u001b[0;34m\u001b[0m\u001b[0m\n\u001b[0m\u001b[1;32m    991\u001b[0m \u001b[0;34m\u001b[0m\u001b[0m\n\u001b[1;32m    992\u001b[0m       \u001b[0;31m# invariant: `func_outputs` contains only Tensors, CompositeTensors,\u001b[0m\u001b[0;34m\u001b[0m\u001b[0;34m\u001b[0m\u001b[0;34m\u001b[0m\u001b[0m\n",
            "\u001b[0;32m/usr/local/lib/python3.7/dist-packages/tensorflow/python/eager/def_function.py\u001b[0m in \u001b[0;36mwrapped_fn\u001b[0;34m(*args, **kwds)\u001b[0m\n\u001b[1;32m    632\u001b[0m             \u001b[0mxla_context\u001b[0m\u001b[0;34m.\u001b[0m\u001b[0mExit\u001b[0m\u001b[0;34m(\u001b[0m\u001b[0;34m)\u001b[0m\u001b[0;34m\u001b[0m\u001b[0;34m\u001b[0m\u001b[0m\n\u001b[1;32m    633\u001b[0m         \u001b[0;32melse\u001b[0m\u001b[0;34m:\u001b[0m\u001b[0;34m\u001b[0m\u001b[0;34m\u001b[0m\u001b[0m\n\u001b[0;32m--> 634\u001b[0;31m           \u001b[0mout\u001b[0m \u001b[0;34m=\u001b[0m \u001b[0mweak_wrapped_fn\u001b[0m\u001b[0;34m(\u001b[0m\u001b[0;34m)\u001b[0m\u001b[0;34m.\u001b[0m\u001b[0m__wrapped__\u001b[0m\u001b[0;34m(\u001b[0m\u001b[0;34m*\u001b[0m\u001b[0margs\u001b[0m\u001b[0;34m,\u001b[0m \u001b[0;34m**\u001b[0m\u001b[0mkwds\u001b[0m\u001b[0;34m)\u001b[0m\u001b[0;34m\u001b[0m\u001b[0;34m\u001b[0m\u001b[0m\n\u001b[0m\u001b[1;32m    635\u001b[0m         \u001b[0;32mreturn\u001b[0m \u001b[0mout\u001b[0m\u001b[0;34m\u001b[0m\u001b[0;34m\u001b[0m\u001b[0m\n\u001b[1;32m    636\u001b[0m \u001b[0;34m\u001b[0m\u001b[0m\n",
            "\u001b[0;32m/usr/local/lib/python3.7/dist-packages/tensorflow/python/framework/func_graph.py\u001b[0m in \u001b[0;36mwrapper\u001b[0;34m(*args, **kwargs)\u001b[0m\n\u001b[1;32m    975\u001b[0m           \u001b[0;32mexcept\u001b[0m \u001b[0mException\u001b[0m \u001b[0;32mas\u001b[0m \u001b[0me\u001b[0m\u001b[0;34m:\u001b[0m  \u001b[0;31m# pylint:disable=broad-except\u001b[0m\u001b[0;34m\u001b[0m\u001b[0;34m\u001b[0m\u001b[0m\n\u001b[1;32m    976\u001b[0m             \u001b[0;32mif\u001b[0m \u001b[0mhasattr\u001b[0m\u001b[0;34m(\u001b[0m\u001b[0me\u001b[0m\u001b[0;34m,\u001b[0m \u001b[0;34m\"ag_error_metadata\"\u001b[0m\u001b[0;34m)\u001b[0m\u001b[0;34m:\u001b[0m\u001b[0;34m\u001b[0m\u001b[0;34m\u001b[0m\u001b[0m\n\u001b[0;32m--> 977\u001b[0;31m               \u001b[0;32mraise\u001b[0m \u001b[0me\u001b[0m\u001b[0;34m.\u001b[0m\u001b[0mag_error_metadata\u001b[0m\u001b[0;34m.\u001b[0m\u001b[0mto_exception\u001b[0m\u001b[0;34m(\u001b[0m\u001b[0me\u001b[0m\u001b[0;34m)\u001b[0m\u001b[0;34m\u001b[0m\u001b[0;34m\u001b[0m\u001b[0m\n\u001b[0m\u001b[1;32m    978\u001b[0m             \u001b[0;32melse\u001b[0m\u001b[0;34m:\u001b[0m\u001b[0;34m\u001b[0m\u001b[0;34m\u001b[0m\u001b[0m\n\u001b[1;32m    979\u001b[0m               \u001b[0;32mraise\u001b[0m\u001b[0;34m\u001b[0m\u001b[0;34m\u001b[0m\u001b[0m\n",
            "\u001b[0;31mValueError\u001b[0m: in user code:\n\n    /usr/local/lib/python3.7/dist-packages/tensorflow/python/keras/engine/training.py:805 train_function  *\n        return step_function(self, iterator)\n    /usr/local/lib/python3.7/dist-packages/tensorflow/python/keras/engine/training.py:795 step_function  **\n        outputs = model.distribute_strategy.run(run_step, args=(data,))\n    /usr/local/lib/python3.7/dist-packages/tensorflow/python/distribute/distribute_lib.py:1259 run\n        return self._extended.call_for_each_replica(fn, args=args, kwargs=kwargs)\n    /usr/local/lib/python3.7/dist-packages/tensorflow/python/distribute/distribute_lib.py:2730 call_for_each_replica\n        return self._call_for_each_replica(fn, args, kwargs)\n    /usr/local/lib/python3.7/dist-packages/tensorflow/python/distribute/distribute_lib.py:3417 _call_for_each_replica\n        return fn(*args, **kwargs)\n    /usr/local/lib/python3.7/dist-packages/tensorflow/python/keras/engine/training.py:788 run_step  **\n        outputs = model.train_step(data)\n    /usr/local/lib/python3.7/dist-packages/tensorflow/python/keras/engine/training.py:754 train_step\n        y_pred = self(x, training=True)\n    /usr/local/lib/python3.7/dist-packages/tensorflow/python/keras/engine/base_layer.py:998 __call__\n        input_spec.assert_input_compatibility(self.input_spec, inputs, self.name)\n    /usr/local/lib/python3.7/dist-packages/tensorflow/python/keras/engine/input_spec.py:223 assert_input_compatibility\n        str(tuple(shape)))\n\n    ValueError: Input 0 of layer sequential_2 is incompatible with the layer: expected ndim=3, found ndim=2. Full shape received: (None, 60)\n"
          ]
        }
      ]
    },
    {
      "cell_type": "code",
      "metadata": {
        "id": "WzZx3A3Gibrl",
        "colab": {
          "base_uri": "https://localhost:8080/"
        },
        "outputId": "be23827d-e5b9-4581-d15a-174b19efefc2"
      },
      "source": [
        "import pandas as pd\n",
        "url = 'https://raw.githubusercontent.com/mwitiderrick/stockprice/master/tatatest.csv'\n",
        "url = 'file_name.csv'\n",
        "dataset_test = pd.read_csv(url)\n",
        "test_size = round(length * .40)\n",
        "dataset_test = dataset_test.tail(test_size)\n",
        "real_stock_price = dataset_train.iloc[:, [4, 6, 9, 10, 11]].values\n",
        "\n",
        "real_stock_price\n",
        "\n",
        "print(dataset_train)\n",
        "print(dataset_test)"
      ],
      "execution_count": 44,
      "outputs": [
        {
          "output_type": "stream",
          "text": [
            "2156\n",
            "            date  1. open  2. high  3. low  ...    ADX_5   ADX_10   ADX_15   RSI_15\n",
            "0     1999-12-13    28.50  29.9400   28.19  ...  28.8894  51.4249  58.7914  60.7234\n",
            "1     1999-12-14    29.94  29.9400   27.56  ...  27.9739  47.3888  56.7496  54.8938\n",
            "2     1999-12-15    27.38  28.5600   26.50  ...  31.5289  43.0638  54.0828  53.0009\n",
            "3     1999-12-16    27.63  29.5000   27.63  ...  27.4078  39.5812  52.0270  60.0051\n",
            "4     1999-12-17    30.00  30.0000   28.50  ...  22.7828  37.0490  50.3260  57.3395\n",
            "...          ...      ...      ...     ...  ...      ...      ...      ...      ...\n",
            "5384  2021-05-07    78.75  79.5718   78.22  ...  26.9326  15.2829  12.2579  45.1844\n",
            "5385  2021-05-10    78.20  78.3000   75.92  ...  28.2624  15.6138  12.3457  39.8211\n",
            "5386  2021-05-11    73.57  76.9300   72.75  ...  33.7914  17.4654  13.1992  42.0176\n",
            "5387  2021-05-12    75.09  76.1300   74.16  ...  38.2145  19.1317  13.9959  38.1300\n",
            "5388  2021-05-13    75.21  75.7000   72.50  ...  43.6553  21.3550  15.1111  35.6301\n",
            "\n",
            "[5389 rows x 19 columns]\n",
            "            date  1. open  2. high  3. low  ...    ADX_5   ADX_10   ADX_15   RSI_15\n",
            "3233  2012-10-17     2.66   2.8000    2.64  ...  70.2904  53.5049  45.0165  30.7655\n",
            "3234  2012-10-18     2.76   2.7800    2.60  ...  73.7313  55.5994  46.3783  27.7753\n",
            "3235  2012-10-19     2.54   2.6200    2.17  ...  78.0779  58.5695  48.3780  21.2762\n",
            "3236  2012-10-22     2.23   2.2300    2.09  ...  81.6722  61.3612  50.3378  20.3487\n",
            "3237  2012-10-23     2.06   2.2100    2.03  ...  84.6330  63.9588  52.2343  22.1664\n",
            "...          ...      ...      ...     ...  ...      ...      ...      ...      ...\n",
            "5384  2021-05-07    78.75  79.5718   78.22  ...  26.9326  15.2829  12.2579  45.1844\n",
            "5385  2021-05-10    78.20  78.3000   75.92  ...  28.2624  15.6138  12.3457  39.8211\n",
            "5386  2021-05-11    73.57  76.9300   72.75  ...  33.7914  17.4654  13.1992  42.0176\n",
            "5387  2021-05-12    75.09  76.1300   74.16  ...  38.2145  19.1317  13.9959  38.1300\n",
            "5388  2021-05-13    75.21  75.7000   72.50  ...  43.6553  21.3550  15.1111  35.6301\n",
            "\n",
            "[2156 rows x 19 columns]\n"
          ],
          "name": "stdout"
        }
      ]
    },
    {
      "cell_type": "code",
      "metadata": {
        "id": "sHMfE0X4idow",
        "colab": {
          "base_uri": "https://localhost:8080/",
          "height": 129
        },
        "outputId": "e83c30b5-9f00-40f3-93b2-bd11e2eb32fa"
      },
      "source": [
        "\n",
        "dataset_total = pd.concat((dataset_train['4. close'], dataset_test['4. close']), , axis = 0)\n",
        "\n",
        "inputs = dataset_total[len(dataset_total) - len(dataset_test) - 60:].values\n",
        "print(inputs.shape)\n",
        "inputs = inputs.reshape(-1,1)\n",
        "print(inputs.shape)\n",
        "\n",
        "inputs = sc.transform(inputs)\n",
        "X_test = []\n",
        "for i in range(60, 76):\n",
        "    X_test.append(inputs[i-60:i, 0])\n",
        "X_test = np.array(X_test)\n",
        "X_test = np.reshape(X_test, (X_test.shape[0], X_test.shape[1], 1))\n",
        "\n",
        "predicted_stock_price = model.predict(X_test)\n",
        "predicted_stock_price = sc.inverse_transform(predicted_stock_price)"
      ],
      "execution_count": null,
      "outputs": [
        {
          "output_type": "error",
          "ename": "SyntaxError",
          "evalue": "ignored",
          "traceback": [
            "\u001b[0;36m  File \u001b[0;32m\"<ipython-input-40-4a4955c3def9>\"\u001b[0;36m, line \u001b[0;32m4\u001b[0m\n\u001b[0;31m    dataset_total = pd.concat((dataset_train['4. close'], dataset_test['4. close']), , axis = 0)\u001b[0m\n\u001b[0m                                                                                     ^\u001b[0m\n\u001b[0;31mSyntaxError\u001b[0m\u001b[0;31m:\u001b[0m invalid syntax\n"
          ]
        }
      ]
    },
    {
      "cell_type": "code",
      "metadata": {
        "id": "ObWLUEAAigcz",
        "colab": {
          "base_uri": "https://localhost:8080/",
          "height": 295
        },
        "outputId": "01a8ea5e-010d-4e18-e5ac-5b59c1c14da3"
      },
      "source": [
        "\n",
        "var = '%s Stock Price' % ticker\n",
        "plt.plot(real_stock_price, color = 'black', label = var)\n",
        "var = 'Predicted %s Stock Price' % ticker\n",
        "plt.plot(predicted_stock_price, color = 'green', label = var)\n",
        "var = '%s Stock Price Prediction' % ticker\n",
        "plt.title(var)\n",
        "plt.xlabel('Time')\n",
        "var = '%s Stock Price' % ticker\n",
        "plt.ylabel(var)\n",
        "plt.legend()\n",
        "plt.show()"
      ],
      "execution_count": null,
      "outputs": [
        {
          "output_type": "display_data",
          "data": {
            "image/png": "[encoded data removed]",
            "text/plain": [
              "<Figure size 432x288 with 1 Axes>"
            ]
          },
          "metadata": {
            "tags": [],
            "needs_background": "light"
          }
        }
      ]
    }
  ]
}